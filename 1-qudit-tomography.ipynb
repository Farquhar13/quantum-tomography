{
 "cells": [
  {
   "cell_type": "code",
   "execution_count": 97,
   "id": "81fcc559",
   "metadata": {},
   "outputs": [],
   "source": [
    "import numpy as np"
   ]
  },
  {
   "cell_type": "markdown",
   "id": "4c57c663",
   "metadata": {},
   "source": [
    "# 3-state qudit"
   ]
  },
  {
   "cell_type": "code",
   "execution_count": 98,
   "id": "050fc750",
   "metadata": {},
   "outputs": [],
   "source": [
    "d = 3"
   ]
  },
  {
   "cell_type": "markdown",
   "id": "721a6d8b",
   "metadata": {},
   "source": [
    "### Generate \"unkown\" state you want to learn"
   ]
  },
  {
   "cell_type": "code",
   "execution_count": 99,
   "id": "6131c2ce-cef9-42f2-aeba-eab1405594ef",
   "metadata": {},
   "outputs": [],
   "source": [
    "def random_complex_vector(n):\n",
    "    # Generate random real and imaginary parts\n",
    "    real_part = np.random.uniform(low=-1, high=1, size=n)\n",
    "    imag_part = np.random.uniform(low=-1, high=1, size=n)\n",
    "    \n",
    "    # Combine them to form a complex vector\n",
    "    vector = real_part + 1j * imag_part\n",
    "    \n",
    "    # Normalize the vector to have norm = 1\n",
    "    norm = np.linalg.norm(vector)\n",
    "    normalized_vector = vector / norm\n",
    "    \n",
    "    return normalized_vector\n",
    "\n",
    "psi = random_complex_vector(d).reshape(-1, 1)\n",
    "unkown_dm = psi @ psi.conj().T"
   ]
  },
  {
   "cell_type": "markdown",
   "id": "26c0f44c",
   "metadata": {},
   "source": [
    "### Define measurement bases "
   ]
  },
  {
   "cell_type": "code",
   "execution_count": 100,
   "id": "66f2a9ef",
   "metadata": {},
   "outputs": [],
   "source": [
    "smaller_bases = True\n",
    "\n",
    "if smaller_bases is True:\n",
    "    zero = np.array([1, 0, 0]).reshape(-1, 1)\n",
    "    one = np.array([0, 1, 0]).reshape(-1, 1)\n",
    "    two = np.array([0, 0, 1]).reshape(-1, 1) \n",
    "\n",
    "    plus_zero_one = 1/np.sqrt(2) * np.array([1, 1, 0]).reshape(-1, 1)\n",
    "    i_zero_one = 1/np.sqrt(2) * np.array([1, 1j, 0]).reshape(-1, 1)\n",
    "\n",
    "    plus_zero_two = 1/np.sqrt(2) * np.array([1, 0, 1]).reshape(-1, 1)\n",
    "    i_zero_two = 1/np.sqrt(2) * np.array([1, 0, 1j]).reshape(-1, 1)\n",
    "    \n",
    "    basis_states = [zero, one, two,\n",
    "                    plus_zero_one, i_zero_one,\n",
    "                    plus_zero_two, i_zero_two]\n",
    "else:\n",
    "    zero = np.array([1, 0, 0]).reshape(-1, 1)\n",
    "    one = np.array([0, 1, 0]).reshape(-1, 1)\n",
    "    two = np.array([0, 0, 1]).reshape(-1, 1)\n",
    "\n",
    "    plus = 1/np.sqrt(3) * np.array([1, 1, 1]).reshape(-1, 1)\n",
    "\n",
    "    # -1 phase\n",
    "    mpp = 1/np.sqrt(3) * np.array([-1, 1, 1]).reshape(-1, 1) # (naming convention: mpp = minus, plus, plus phase)\n",
    "    pmp = 1/np.sqrt(3) * np.array([1, -1, 1]).reshape(-1, 1) # same\n",
    "    ppm = 1/np.sqrt(3) * np.array([1, 1, -1]).reshape(-1, 1) \n",
    "    pmm = 1/np.sqrt(3) * np.array([1, -1, -1]).reshape(-1, 1)\n",
    "    mpm = 1/np.sqrt(3) * np.array([-1, 1, -1]).reshape(-1, 1) # same\n",
    "\n",
    "    # i phase\n",
    "    i__ = 1/np.sqrt(3) * np.array([1j, 1, 1]).reshape(-1, 1)\n",
    "    _i_ = 1/np.sqrt(3) * np.array([1, 1j, 1]).reshape(-1, 1) # probably same\n",
    "    __i = 1/np.sqrt(3) * np.array([1, 1, 1j]).reshape(-1, 1) \n",
    "    _ii = 1/np.sqrt(3) * np.array([1, 1j, 1j]).reshape(-1, 1)\n",
    "    i_i = 1/np.sqrt(3) * np.array([1j, 1, 1j]).reshape(-1, 1) # probably same \n",
    "\n",
    "    basis_states = [zero, one, two, plus, \n",
    "                    mpp, pmp, ppm, pmm, mpm,\n",
    "                    i__, _i_, __i, _ii, i_i]"
   ]
  },
  {
   "cell_type": "markdown",
   "id": "1b8d32c8",
   "metadata": {},
   "source": [
    "### Create measurement projectors"
   ]
  },
  {
   "cell_type": "code",
   "execution_count": 101,
   "id": "a06751fe",
   "metadata": {},
   "outputs": [],
   "source": [
    "measurement_operators = [state_vector @ state_vector.conj().T for state_vector in basis_states]"
   ]
  },
  {
   "cell_type": "markdown",
   "id": "196c177f",
   "metadata": {},
   "source": [
    "### Compute probabilities to use as the data to fit to\n",
    "Experimentally, you would compute these from measurement counts"
   ]
  },
  {
   "cell_type": "code",
   "execution_count": 102,
   "id": "c09814dc",
   "metadata": {},
   "outputs": [],
   "source": [
    "def get_probabilities(dm):\n",
    "    return [np.trace(dm @ measurement_op).real for measurement_op in measurement_operators]\n",
    "\n",
    "probabilities = get_probabilities(unkown_dm)"
   ]
  },
  {
   "cell_type": "markdown",
   "id": "b80451ce",
   "metadata": {},
   "source": [
    "### Create tunable state\n",
    "Parameterization from Kwiat group lecture: https://www.youtube.com/watch?v=-T_GiHE4VGg"
   ]
  },
  {
   "cell_type": "code",
   "execution_count": 103,
   "id": "45f6bf99",
   "metadata": {},
   "outputs": [],
   "source": [
    "def get_parameterized_dm(t1, t2, t3, t4, t5, t6, t7, t8, t9):\n",
    "    T = np.array([[t1, 0, 0],\n",
    "                  [t4 + 1j*t5, t2, 0],\n",
    "                  [t8 + 1j*t9, t6 + 1j*t7, t3]])\n",
    "    \n",
    "    parameterized_rho = (T.conj().T @ T) / np.trace(T.conj().T @ T)\n",
    "    \n",
    "    return parameterized_rho"
   ]
  },
  {
   "cell_type": "code",
   "execution_count": 104,
   "id": "84df70d6",
   "metadata": {},
   "outputs": [],
   "source": [
    "dm_parameters = np.random.uniform(low=-1, high=1, size=9)"
   ]
  },
  {
   "cell_type": "code",
   "execution_count": 105,
   "id": "4e923d27",
   "metadata": {},
   "outputs": [],
   "source": [
    "parameterized_dm = get_parameterized_dm(*dm_parameters)"
   ]
  },
  {
   "cell_type": "markdown",
   "id": "7b44e5ba",
   "metadata": {},
   "source": [
    "### Test that DM is valid"
   ]
  },
  {
   "cell_type": "code",
   "execution_count": 106,
   "id": "c9c3fdc7",
   "metadata": {},
   "outputs": [],
   "source": [
    "# Check that trace is close to one\n",
    "assert np.allclose(1, np.trace(parameterized_dm))\n",
    "\n",
    "# Check Hermitian\n",
    "assert np.allclose(parameterized_dm, parameterized_dm.conj().T)\n",
    "\n",
    "# Check positive-semi definite <--> eigenvalues >= 0\n",
    "assert np.all(np.linalg.eigvalsh(parameterized_dm) >= 0)"
   ]
  },
  {
   "cell_type": "markdown",
   "id": "818116a7",
   "metadata": {},
   "source": [
    "### Optimize with SciPy"
   ]
  },
  {
   "cell_type": "code",
   "execution_count": 107,
   "id": "545a73e9",
   "metadata": {},
   "outputs": [],
   "source": [
    "def get_probabilites_from_parameters(t1, t2, t3, t4, t5, t6, t7, t8, t9):\n",
    "    parameterized_dm = get_parameterized_dm(t1, t2, t3, t4, t5, t6, t7, t8, t9)\n",
    "    probabilities = get_probabilities(parameterized_dm)\n",
    "    return probabilities"
   ]
  },
  {
   "cell_type": "code",
   "execution_count": 108,
   "id": "8b432246",
   "metadata": {},
   "outputs": [],
   "source": [
    "from scipy.special import kl_div\n",
    "\n",
    "def kl_divergence(true_probs, t1, t2, t3, t4, t5, t6, t7, t8, t9):\n",
    "    probs = get_probabilites_from_parameters(t1, t2, t3, t4, t5, t6, t7, t8, t9)\n",
    "    return sum(kl_div(true_probs, probs))\n",
    "\n",
    "kl_divergence_from_parameters = lambda params : kl_divergence(probabilities, *params)"
   ]
  },
  {
   "cell_type": "code",
   "execution_count": 109,
   "id": "b0d269a2",
   "metadata": {},
   "outputs": [],
   "source": [
    "from scipy.optimize import minimize\n",
    "\n",
    "# TODO: try different methods\n",
    "#optimization_result = minimize(kl_divergence_from_parameters, dm_parameters, method=\"L-BFGS-B\")\n",
    "optimization_result = minimize(kl_divergence_from_parameters, dm_parameters, method=\"CG\")\n",
    "\n"
   ]
  },
  {
   "cell_type": "code",
   "execution_count": 110,
   "id": "17ca25ca",
   "metadata": {},
   "outputs": [],
   "source": [
    "found_params = optimization_result.x\n",
    "\n",
    "found_dm = get_parameterized_dm(*found_params)"
   ]
  },
  {
   "cell_type": "markdown",
   "id": "2eb431aa",
   "metadata": {},
   "source": [
    "# Density Matrix Fidelity: \"Unknown\" DM vs. Reconstructed DM"
   ]
  },
  {
   "cell_type": "code",
   "execution_count": 111,
   "id": "12e35d52",
   "metadata": {},
   "outputs": [
    {
     "name": "stdout",
     "output_type": "stream",
     "text": [
      "Density matrix fidelity: 0.9996337930317551\n"
     ]
    }
   ],
   "source": [
    "dm_fidelity = lambda d1, d2 : np.trace(d1.T.conj() @ d2).real\n",
    "\n",
    "print(\"Density matrix fidelity:\", dm_fidelity(unkown_dm, found_dm))"
   ]
  },
  {
   "cell_type": "markdown",
   "id": "090377f3",
   "metadata": {},
   "source": [
    "### Plot Density Matrices"
   ]
  },
  {
   "cell_type": "code",
   "execution_count": 112,
   "id": "1cf202c6",
   "metadata": {},
   "outputs": [],
   "source": [
    "import matplotlib as mplt\n",
    "import matplotlib.pyplot as plt\n",
    "%matplotlib inline"
   ]
  },
  {
   "cell_type": "code",
   "execution_count": 113,
   "id": "44060d21",
   "metadata": {},
   "outputs": [],
   "source": [
    "def bar_plot_3d(top, title=\"\"):\n",
    "    # set up the figure and axes\n",
    "    fig = plt.figure(figsize=(8, 3))\n",
    "    ax = fig.add_subplot(121, projection='3d')\n",
    "\n",
    "    x_dim = y_dim = len(top)\n",
    "    \n",
    "    # fake data\n",
    "    _x = np.arange(x_dim)\n",
    "    _y = np.arange(y_dim)\n",
    "    _xx, _yy = np.meshgrid(_x, _y)\n",
    "    x, y = _xx.ravel(), _yy.ravel()\n",
    "\n",
    "    # top = x + y\n",
    "\n",
    "    bottom = np.zeros_like(top)\n",
    "    width = depth = 0.5\n",
    "\n",
    "    ax.bar3d(x, y, bottom.flatten(), width, depth, top.flatten(), shade=True)\n",
    "    ax.set_title(title)\n",
    "    ax.set_xticks([0, 1])\n",
    "    ax.set_yticks([0, 1])\n",
    "    ax.set_xlabel(\"row\")\n",
    "    ax.set_ylabel(\"column\")\n",
    "\n",
    "\n",
    "    plt.show()"
   ]
  },
  {
   "cell_type": "code",
   "execution_count": 114,
   "id": "072a7a5a",
   "metadata": {},
   "outputs": [
    {
     "data": {
      "image/png": "[encoded data removed]",
      "text/plain": [
       "<Figure size 800x300 with 1 Axes>"
      ]
     },
     "metadata": {},
     "output_type": "display_data"
    },
    {
     "name": "stdout",
     "output_type": "stream",
     "text": [
      "[[1.35833156 0.71133265 1.31843992]\n",
      " [0.71133265 1.30306626 0.6808446 ]\n",
      " [1.31843992 0.6808446  1.33860218]]\n"
     ]
    }
   ],
   "source": [
    "bar_plot_3d(unkown_dm.real + 1, title=\"Unkown DM Real\")\n",
    "print(unkown_dm.real + 1)"
   ]
  },
  {
   "cell_type": "code",
   "execution_count": 115,
   "id": "5e80d6cc",
   "metadata": {},
   "outputs": [
    {
     "data": {
      "image/png": "[encoded data removed]",
      "text/plain": [
       "<Figure size 800x300 with 1 Axes>"
      ]
     },
     "metadata": {},
     "output_type": "display_data"
    },
    {
     "name": "stdout",
     "output_type": "stream",
     "text": [
      "[[1.35835819 0.7113369  1.31828909]\n",
      " [0.7113369  1.30305074 0.68120171]\n",
      " [1.31828909 0.68120171 1.33859107]]\n"
     ]
    }
   ],
   "source": [
    "bar_plot_3d(found_dm.real + 1, title=\"Found DM Real\")\n",
    "print(found_dm.real + 1)"
   ]
  },
  {
   "cell_type": "code",
   "execution_count": 116,
   "id": "16966686",
   "metadata": {},
   "outputs": [
    {
     "data": {
      "image/png": "[encoded data removed]",
      "text/plain": [
       "<Figure size 800x300 with 1 Axes>"
      ]
     },
     "metadata": {},
     "output_type": "display_data"
    },
    {
     "name": "stdout",
     "output_type": "stream",
     "text": [
      "[[1.         0.8410366  1.14116609]\n",
      " [1.1589634  1.         1.02754503]\n",
      " [0.85883391 0.97245497 1.        ]]\n"
     ]
    }
   ],
   "source": [
    "bar_plot_3d(unkown_dm.imag + 1, title=\"Unkown DM Imaginary\")\n",
    "print(unkown_dm.imag + 1)"
   ]
  },
  {
   "cell_type": "code",
   "execution_count": 117,
   "id": "c4ccdfeb",
   "metadata": {},
   "outputs": [
    {
     "data": {
      "image/png": "[encoded data removed]",
      "text/plain": [
       "<Figure size 800x300 with 1 Axes>"
      ]
     },
     "metadata": {},
     "output_type": "display_data"
    },
    {
     "name": "stdout",
     "output_type": "stream",
     "text": [
      "[[1.         0.84113412 1.14116247]\n",
      " [1.15886588 1.         1.02738539]\n",
      " [0.85883753 0.97261461 1.        ]]\n"
     ]
    }
   ],
   "source": [
    "bar_plot_3d(found_dm.imag + 1, title=\"Found DM Imaginary\")\n",
    "print(found_dm.imag + 1)"
   ]
  },
  {
   "cell_type": "markdown",
   "id": "cf3b20b7",
   "metadata": {},
   "source": [
    "## Reconstruct state vector from the density matrix "
   ]
  },
  {
   "cell_type": "code",
   "execution_count": 118,
   "id": "488d354a",
   "metadata": {},
   "outputs": [],
   "source": [
    "# TEST: reconstruct statevector from psi\n",
    "def density_matrix_to_state_vector(rho):\n",
    "    \"\"\"Extracts a state vector from a pure-state density matrix.\"\"\"\n",
    "    # Compute eigenvalues and eigenvectors\n",
    "    eigenvalues, eigenvectors = np.linalg.eigh(rho)\n",
    "\n",
    "    # Find the eigenvector corresponding to eigenvalue ~1\n",
    "    idx = np.argmax(eigenvalues)  # The largest eigenvalue (should be ~1 for a pure state)\n",
    "    print(eigenvalues)\n",
    "    \n",
    "    # Extract the corresponding eigenvector\n",
    "    state_vector = eigenvectors[:, idx]\n",
    "\n",
    "    # Normalize the state vector\n",
    "    state_vector = state_vector / np.linalg.norm(state_vector)\n",
    "\n",
    "    return state_vector"
   ]
  },
  {
   "cell_type": "markdown",
   "id": "775ae78a",
   "metadata": {},
   "source": [
    "#### original psi"
   ]
  },
  {
   "cell_type": "code",
   "execution_count": 119,
   "id": "899b3051",
   "metadata": {},
   "outputs": [
    {
     "name": "stdout",
     "output_type": "stream",
     "text": [
      "original psi [[-0.46613635+0.3755642j ]\n",
      " [ 0.20890536-0.50933762j]\n",
      " [-0.26628828+0.51739031j]]\n",
      "prob_0 [0.35833156]\n",
      "prob_1 [0.30306626]\n"
     ]
    }
   ],
   "source": [
    "print(\"original psi\", psi)\n",
    "\n",
    "prob_0 = np.abs(psi[0])**2\n",
    "prob_1 = np.abs(psi[1])**2\n",
    "print(\"prob_0\", prob_0)\n",
    "print(\"prob_1\", prob_1)"
   ]
  },
  {
   "cell_type": "markdown",
   "id": "0a66549b",
   "metadata": {},
   "source": [
    "#### original psi from density matrix, testing that it matches psi"
   ]
  },
  {
   "cell_type": "code",
   "execution_count": 120,
   "id": "03e367c4",
   "metadata": {},
   "outputs": [
    {
     "name": "stdout",
     "output_type": "stream",
     "text": [
      "[-2.63664550e-16 -5.07533801e-17  1.00000000e+00]\n",
      "original_psi_from_dm [ 0.59860802+0.j         -0.48223102+0.26555509j  0.53196735-0.23582392j]\n",
      "prob_0 0.358331559772551\n",
      "prob_1 0.3030662565881203\n"
     ]
    }
   ],
   "source": [
    "original_psi_from_dm = density_matrix_to_state_vector(unkown_dm)\n",
    "print(\"original_psi_from_dm\", original_psi_from_dm)\n",
    "\n",
    "prob_0 = np.abs(original_psi_from_dm[0])**2\n",
    "prob_1 = np.abs(original_psi_from_dm[1])**2\n",
    "print(\"prob_0\", prob_0)\n",
    "print(\"prob_1\", prob_1)"
   ]
  },
  {
   "cell_type": "markdown",
   "id": "5a6d4cdd",
   "metadata": {},
   "source": [
    "#### statevector from reconstructed dm"
   ]
  },
  {
   "cell_type": "code",
   "execution_count": 121,
   "id": "d5ed8ca5",
   "metadata": {},
   "outputs": [
    {
     "name": "stdout",
     "output_type": "stream",
     "text": [
      "[2.53767550e-07 3.65901339e-04 9.99633845e-01]\n",
      "found_psi_from_dm [-0.59873417+0.j          0.48225071-0.26541075j -0.5318561 +0.23587681j]\n",
      "prob_0 0.3584826028085115\n",
      "prob_1 0.3030086140028149\n"
     ]
    }
   ],
   "source": [
    "found_psi_from_dm = density_matrix_to_state_vector(found_dm)\n",
    "print(\"found_psi_from_dm\", found_psi_from_dm)\n",
    "prob_0 = np.abs(found_psi_from_dm[0])**2\n",
    "prob_1 = np.abs(found_psi_from_dm[1])**2\n",
    "print(\"prob_0\", prob_0)\n",
    "print(\"prob_1\", prob_1)"
   ]
  },
  {
   "cell_type": "markdown",
   "id": "a7751784",
   "metadata": {},
   "source": [
    "### State vector fidelity"
   ]
  },
  {
   "cell_type": "code",
   "execution_count": 122,
   "id": "175be127",
   "metadata": {},
   "outputs": [],
   "source": [
    "def statevector_fidelity(psi, phi):\n",
    "    \"\"\"Computes the fidelity between two state vectors.\"\"\"\n",
    "    psi = np.array(psi, dtype=complex)\n",
    "    phi = np.array(phi, dtype=complex)\n",
    "    \n",
    "    # Normalize the state vectors\n",
    "    psi /= np.linalg.norm(psi)\n",
    "    phi /= np.linalg.norm(phi)\n",
    "    \n",
    "    # Compute fidelity\n",
    "    fidelity = np.abs(np.vdot(psi, phi)) ** 2\n",
    "    return fidelity"
   ]
  },
  {
   "cell_type": "code",
   "execution_count": 123,
   "id": "ef570be0",
   "metadata": {},
   "outputs": [
    {
     "data": {
      "text/plain": [
       "0.9999999481089896"
      ]
     },
     "execution_count": 123,
     "metadata": {},
     "output_type": "execute_result"
    }
   ],
   "source": [
    "statevector_fidelity(psi, found_psi_from_dm)"
   ]
  },
  {
   "cell_type": "markdown",
   "id": "5557ac2a",
   "metadata": {},
   "source": [
    "# Analytic Solution"
   ]
  },
  {
   "cell_type": "code",
   "execution_count": 124,
   "id": "36391f94",
   "metadata": {},
   "outputs": [],
   "source": [
    "import math\n",
    "import cmath"
   ]
  },
  {
   "cell_type": "code",
   "execution_count": 125,
   "id": "dcb9f71a",
   "metadata": {},
   "outputs": [
    {
     "data": {
      "text/plain": [
       "[0.358331559772551,\n",
       " 0.3030662565881203,\n",
       " 0.33860218363932854,\n",
       " 0.042031555386394026,\n",
       " 0.4896623123606291,\n",
       " 0.6669067945591131,\n",
       " 0.2073007846342308]"
      ]
     },
     "execution_count": 125,
     "metadata": {},
     "output_type": "execute_result"
    }
   ],
   "source": [
    "probabilities"
   ]
  },
  {
   "cell_type": "code",
   "execution_count": 126,
   "id": "be709241",
   "metadata": {},
   "outputs": [],
   "source": [
    "alpha_0 = np.sqrt(probabilities[0])\n",
    "alpha_1 = np.sqrt(probabilities[1])\n",
    "alpha_2 = np.sqrt(probabilities[2])\n",
    "\n",
    "phi_1 = math.atan2(2*probabilities[4] - alpha_0**2 - alpha_1**2,\n",
    "                 2*probabilities[3] - alpha_0**2 - alpha_1**2)\n",
    "                 \n",
    "phi_2 = math.atan2(2*probabilities[6] - alpha_0**2 - alpha_2**2,\n",
    "                 2*probabilities[5] - alpha_0**2 - alpha_2**2)"
   ]
  },
  {
   "cell_type": "code",
   "execution_count": 127,
   "id": "b6fb6575",
   "metadata": {},
   "outputs": [],
   "source": [
    "analytic_psi = np.array([alpha_0,\n",
    "                         alpha_1 * np.exp(1j * phi_1),\n",
    "                         alpha_2 * np.exp(1j * phi_2)]).reshape(-1, 1)"
   ]
  },
  {
   "cell_type": "code",
   "execution_count": 128,
   "id": "40ff1efc",
   "metadata": {},
   "outputs": [
    {
     "data": {
      "text/plain": [
       "1.0000000000000009"
      ]
     },
     "execution_count": 128,
     "metadata": {},
     "output_type": "execute_result"
    }
   ],
   "source": [
    "statevector_fidelity(psi, analytic_psi)"
   ]
  },
  {
   "cell_type": "code",
   "execution_count": null,
   "id": "72455719",
   "metadata": {},
   "outputs": [],
   "source": []
  }
 ],
 "metadata": {
  "kernelspec": {
   "display_name": "tomography",
   "language": "python",
   "name": "python3"
  },
  "language_info": {
   "codemirror_mode": {
    "name": "ipython",
    "version": 3
   },
   "file_extension": ".py",
   "mimetype": "text/x-python",
   "name": "python",
   "nbconvert_exporter": "python",
   "pygments_lexer": "ipython3",
   "version": "3.12.7"
  }
 },
 "nbformat": 4,
 "nbformat_minor": 5
}
