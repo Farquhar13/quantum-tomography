{
 "cells": [
  {
   "cell_type": "code",
   "execution_count": 1,
   "id": "81fcc559",
   "metadata": {},
   "outputs": [],
   "source": [
    "import numpy as np\n",
    "from qiskit.quantum_info import random_statevector"
   ]
  },
  {
   "cell_type": "markdown",
   "id": "4c57c663",
   "metadata": {},
   "source": [
    "# 1 Qubit"
   ]
  },
  {
   "cell_type": "code",
   "execution_count": 2,
   "id": "050fc750",
   "metadata": {},
   "outputs": [],
   "source": [
    "n_qubits = 1"
   ]
  },
  {
   "cell_type": "markdown",
   "id": "721a6d8b",
   "metadata": {},
   "source": [
    "### Generate \"unkown\" state you want to learn"
   ]
  },
  {
   "cell_type": "code",
   "execution_count": 3,
   "id": "7f8a6c6a",
   "metadata": {},
   "outputs": [],
   "source": [
    "psi = random_statevector(2**n_qubits).data.reshape(-1, 1)\n",
    "unkown_dm = psi @ psi.conj().T"
   ]
  },
  {
   "cell_type": "markdown",
   "id": "26c0f44c",
   "metadata": {},
   "source": [
    "### Define measurement bases "
   ]
  },
  {
   "cell_type": "code",
   "execution_count": 4,
   "id": "66f2a9ef",
   "metadata": {},
   "outputs": [],
   "source": [
    "measurement_strings = [\"0\", \"1\", \"+\", \"-\", \"i\", \"-i\"]\n",
    "\n",
    "zero = np.array([1, 0]).reshape(-1, 1)\n",
    "one = np.array([0, 1]).reshape(-1, 1)\n",
    "plus = 1/np.sqrt(2) * np.array([1, 1]).reshape(-1, 1)\n",
    "minus = 1/np.sqrt(2) * np.array([1, -1]).reshape(-1, 1)\n",
    "i = 1/np.sqrt(2) * np.array([1, 1j]).reshape(-1, 1)\n",
    "minus_i = 1/np.sqrt(2) * np.array([1, -1j]).reshape(-1, 1)\n",
    "\n",
    "basis_states = [zero, one, plus, minus, i, minus_i]"
   ]
  },
  {
   "cell_type": "markdown",
   "id": "1b8d32c8",
   "metadata": {},
   "source": [
    "### Create measurement projectors"
   ]
  },
  {
   "cell_type": "code",
   "execution_count": 5,
   "id": "a06751fe",
   "metadata": {},
   "outputs": [],
   "source": [
    "# 1 qubit\n",
    "measurement_operators = [state_vector @ state_vector.conj().T for state_vector in basis_states]\n",
    "measurement_op_dict = dict(zip(measurement_strings, measurement_operators))"
   ]
  },
  {
   "cell_type": "markdown",
   "id": "196c177f",
   "metadata": {},
   "source": [
    "### Compute probabilities to use as the data to fit to\n",
    "Experimentally, you would compute these from measurement counts"
   ]
  },
  {
   "cell_type": "code",
   "execution_count": 6,
   "id": "c09814dc",
   "metadata": {},
   "outputs": [],
   "source": [
    "def get_probabilities(dm):\n",
    "    return [np.trace(dm @ measurement_op).real for measurement_op in measurement_operators]\n",
    "\n",
    "probabilities = get_probabilities(unkown_dm)\n",
    "prob_dict = dict(zip(measurement_strings, probabilities))"
   ]
  },
  {
   "cell_type": "markdown",
   "id": "b80451ce",
   "metadata": {},
   "source": [
    "### Create tunable state\n",
    "Parameterization from Kwiat group lecture: https://www.youtube.com/watch?v=-T_GiHE4VGg"
   ]
  },
  {
   "cell_type": "code",
   "execution_count": 7,
   "id": "45f6bf99",
   "metadata": {},
   "outputs": [],
   "source": [
    "def get_parameterized_dm(t1, t2, t3, t4):\n",
    "    T = np.array([[t1,          0],\n",
    "                  [t3 + 1j*t4, t2]])\n",
    "    parameterized_rho = (T.conj().T @ T) / np.trace(T.conj().T @ T)\n",
    "    return parameterized_rho"
   ]
  },
  {
   "cell_type": "code",
   "execution_count": 8,
   "id": "84df70d6",
   "metadata": {},
   "outputs": [],
   "source": [
    "dm_parameters = np.random.uniform(low=-1, high=1, size=4)"
   ]
  },
  {
   "cell_type": "code",
   "execution_count": 9,
   "id": "4e923d27",
   "metadata": {},
   "outputs": [],
   "source": [
    "parameterized_dm = get_parameterized_dm(*dm_parameters)"
   ]
  },
  {
   "cell_type": "markdown",
   "id": "7b44e5ba",
   "metadata": {},
   "source": [
    "### Test that DM is valid"
   ]
  },
  {
   "cell_type": "code",
   "execution_count": 10,
   "id": "c9c3fdc7",
   "metadata": {},
   "outputs": [],
   "source": [
    "# Check that trace is close to one\n",
    "assert np.allclose(1, np.trace(parameterized_dm))\n",
    "\n",
    "# Check Hermitian\n",
    "assert np.allclose(parameterized_dm, parameterized_dm.conj().T)\n",
    "\n",
    "# Check positive-semi definite <--> eigenvalues >= 0\n",
    "assert np.all(np.linalg.eigvalsh(parameterized_dm) >= 0)"
   ]
  },
  {
   "cell_type": "markdown",
   "id": "818116a7",
   "metadata": {},
   "source": [
    "### Optimize with SciPy"
   ]
  },
  {
   "cell_type": "code",
   "execution_count": 11,
   "id": "545a73e9",
   "metadata": {},
   "outputs": [],
   "source": [
    "def get_probabilites_from_parameters(t1, t2, t3, t4):\n",
    "    parameterized_dm = get_parameterized_dm(t1, t2, t3, t4)\n",
    "    probabilities = get_probabilities(parameterized_dm)\n",
    "    return probabilities"
   ]
  },
  {
   "cell_type": "code",
   "execution_count": 12,
   "id": "8b432246",
   "metadata": {},
   "outputs": [],
   "source": [
    "from scipy.special import kl_div\n",
    "\n",
    "def kl_divergence(true_probs, t1, t2, t3, t4):\n",
    "    probs = get_probabilites_from_parameters(t1, t2, t3, t4)\n",
    "    return sum(kl_div(true_probs, probs))\n",
    "\n",
    "kl_divergence_from_parameters = lambda params : kl_divergence(probabilities, *params)"
   ]
  },
  {
   "cell_type": "code",
   "execution_count": 13,
   "id": "b0d269a2",
   "metadata": {},
   "outputs": [],
   "source": [
    "from scipy.optimize import minimize\n",
    "\n",
    "optimization_result = minimize(kl_divergence_from_parameters, dm_parameters, method=\"L-BFGS-B\")"
   ]
  },
  {
   "cell_type": "code",
   "execution_count": 14,
   "id": "17ca25ca",
   "metadata": {},
   "outputs": [],
   "source": [
    "found_params = optimization_result.x\n",
    "\n",
    "found_dm = get_parameterized_dm(*found_params)"
   ]
  },
  {
   "cell_type": "code",
   "execution_count": 15,
   "id": "12e35d52",
   "metadata": {},
   "outputs": [
    {
     "data": {
      "text/plain": [
       "np.float64(0.9999782207878503)"
      ]
     },
     "execution_count": 15,
     "metadata": {},
     "output_type": "execute_result"
    }
   ],
   "source": [
    "dm_fidelity = lambda d1, d2 : np.trace(d1.T.conj() @ d2).real\n",
    "\n",
    "dm_fidelity(unkown_dm, found_dm)"
   ]
  },
  {
   "cell_type": "code",
   "execution_count": null,
   "id": "31183feb",
   "metadata": {},
   "outputs": [],
   "source": []
  }
 ],
 "metadata": {
  "kernelspec": {
   "display_name": "Python [conda env:tomography]",
   "language": "python",
   "name": "conda-env-tomography-py"
  },
  "language_info": {
   "codemirror_mode": {
    "name": "ipython",
    "version": 3
   },
   "file_extension": ".py",
   "mimetype": "text/x-python",
   "name": "python",
   "nbconvert_exporter": "python",
   "pygments_lexer": "ipython3",
   "version": "3.10.14"
  }
 },
 "nbformat": 4,
 "nbformat_minor": 5
}
