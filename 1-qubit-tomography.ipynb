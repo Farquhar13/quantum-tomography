{
 "cells": [
  {
   "cell_type": "code",
   "execution_count": 33,
   "id": "81fcc559",
   "metadata": {},
   "outputs": [],
   "source": [
    "import numpy as np\n",
    "from qiskit.quantum_info import random_statevector\n",
    "import math"
   ]
  },
  {
   "cell_type": "markdown",
   "id": "4c57c663",
   "metadata": {},
   "source": [
    "# 1 Qubit"
   ]
  },
  {
   "cell_type": "code",
   "execution_count": 5,
   "id": "050fc750",
   "metadata": {},
   "outputs": [],
   "source": [
    "n_qubits = 1"
   ]
  },
  {
   "cell_type": "markdown",
   "id": "721a6d8b",
   "metadata": {},
   "source": [
    "### Generate \"unkown\" state you want to learn"
   ]
  },
  {
   "cell_type": "code",
   "execution_count": 6,
   "id": "7f8a6c6a",
   "metadata": {},
   "outputs": [],
   "source": [
    "psi = random_statevector(2**n_qubits).data.reshape(-1, 1)\n",
    "unkown_dm = psi @ psi.conj().T"
   ]
  },
  {
   "cell_type": "markdown",
   "id": "26c0f44c",
   "metadata": {},
   "source": [
    "### Define measurement bases "
   ]
  },
  {
   "cell_type": "code",
   "execution_count": 7,
   "id": "66f2a9ef",
   "metadata": {},
   "outputs": [],
   "source": [
    "smaller_bases = True\n",
    "\n",
    "if smaller_bases is True:\n",
    "    zero = np.array([1, 0]).reshape(-1, 1)\n",
    "    one = np.array([0, 1]).reshape(-1, 1)\n",
    "    plus = 1/np.sqrt(2) * np.array([1, 1]).reshape(-1, 1)\n",
    "    i = 1/np.sqrt(2) * np.array([1, 1j]).reshape(-1, 1)\n",
    "    basis_states = [zero, one, plus, i]\n",
    "else:\n",
    "    zero = np.array([1, 0]).reshape(-1, 1)\n",
    "    one = np.array([0, 1]).reshape(-1, 1)\n",
    "    plus = 1/np.sqrt(2) * np.array([1, 1]).reshape(-1, 1)\n",
    "    minus = 1/np.sqrt(2) * np.array([1, -1]).reshape(-1, 1)\n",
    "    i = 1/np.sqrt(2) * np.array([1, 1j]).reshape(-1, 1)\n",
    "    minus_i = 1/np.sqrt(2) * np.array([1, -1j]).reshape(-1, 1)\n",
    "    basis_states = [zero, one, plus, minus, i, minus_i]"
   ]
  },
  {
   "cell_type": "markdown",
   "id": "1b8d32c8",
   "metadata": {},
   "source": [
    "### Create measurement projectors"
   ]
  },
  {
   "cell_type": "code",
   "execution_count": 8,
   "id": "a06751fe",
   "metadata": {},
   "outputs": [],
   "source": [
    "# 1 qubit\n",
    "measurement_operators = [state_vector @ state_vector.conj().T for state_vector in basis_states]"
   ]
  },
  {
   "cell_type": "markdown",
   "id": "196c177f",
   "metadata": {},
   "source": [
    "### Compute probabilities to use as the data to fit to\n",
    "Experimentally, you would compute these from measurement counts"
   ]
  },
  {
   "cell_type": "code",
   "execution_count": 9,
   "id": "c09814dc",
   "metadata": {},
   "outputs": [],
   "source": [
    "def get_probabilities(dm):\n",
    "    return [np.trace(dm @ measurement_op).real for measurement_op in measurement_operators]\n",
    "\n",
    "probabilities = get_probabilities(unkown_dm)"
   ]
  },
  {
   "cell_type": "markdown",
   "id": "b80451ce",
   "metadata": {},
   "source": [
    "### Create tunable state\n",
    "Parameterization from Kwiat group lecture: https://www.youtube.com/watch?v=-T_GiHE4VGg"
   ]
  },
  {
   "cell_type": "code",
   "execution_count": 10,
   "id": "45f6bf99",
   "metadata": {},
   "outputs": [],
   "source": [
    "def get_parameterized_dm(t1, t2, t3, t4):\n",
    "    T = np.array([[t1,          0],\n",
    "                  [t3 + 1j*t4, t2]])\n",
    "    parameterized_rho = (T.conj().T @ T) / np.trace(T.conj().T @ T)\n",
    "    return parameterized_rho"
   ]
  },
  {
   "cell_type": "code",
   "execution_count": 11,
   "id": "84df70d6",
   "metadata": {},
   "outputs": [],
   "source": [
    "dm_parameters = np.random.uniform(low=-1, high=1, size=4)"
   ]
  },
  {
   "cell_type": "code",
   "execution_count": 12,
   "id": "4e923d27",
   "metadata": {},
   "outputs": [],
   "source": [
    "parameterized_dm = get_parameterized_dm(*dm_parameters)"
   ]
  },
  {
   "cell_type": "markdown",
   "id": "7b44e5ba",
   "metadata": {},
   "source": [
    "### Test that DM is valid"
   ]
  },
  {
   "cell_type": "code",
   "execution_count": 13,
   "id": "c9c3fdc7",
   "metadata": {},
   "outputs": [],
   "source": [
    "# Check that trace is close to one\n",
    "assert np.allclose(1, np.trace(parameterized_dm))\n",
    "\n",
    "# Check Hermitian\n",
    "assert np.allclose(parameterized_dm, parameterized_dm.conj().T)\n",
    "\n",
    "# Check positive-semi definite <--> eigenvalues >= 0\n",
    "assert np.all(np.linalg.eigvalsh(parameterized_dm) >= 0)"
   ]
  },
  {
   "cell_type": "markdown",
   "id": "818116a7",
   "metadata": {},
   "source": [
    "### Optimize with SciPy"
   ]
  },
  {
   "cell_type": "code",
   "execution_count": 14,
   "id": "545a73e9",
   "metadata": {},
   "outputs": [],
   "source": [
    "def get_probabilites_from_parameters(t1, t2, t3, t4):\n",
    "    parameterized_dm = get_parameterized_dm(t1, t2, t3, t4)\n",
    "    probabilities = get_probabilities(parameterized_dm)\n",
    "    return probabilities"
   ]
  },
  {
   "cell_type": "code",
   "execution_count": 15,
   "id": "8b432246",
   "metadata": {},
   "outputs": [],
   "source": [
    "from scipy.special import kl_div\n",
    "\n",
    "def kl_divergence(true_probs, t1, t2, t3, t4):\n",
    "    probs = get_probabilites_from_parameters(t1, t2, t3, t4)\n",
    "    return sum(kl_div(true_probs, probs))\n",
    "\n",
    "kl_divergence_from_parameters = lambda params : kl_divergence(probabilities, *params)"
   ]
  },
  {
   "cell_type": "code",
   "execution_count": 16,
   "id": "b0d269a2",
   "metadata": {},
   "outputs": [],
   "source": [
    "from scipy.optimize import minimize\n",
    "\n",
    "optimization_result = minimize(kl_divergence_from_parameters, dm_parameters, method=\"L-BFGS-B\")"
   ]
  },
  {
   "cell_type": "code",
   "execution_count": 17,
   "id": "17ca25ca",
   "metadata": {},
   "outputs": [],
   "source": [
    "found_params = optimization_result.x\n",
    "\n",
    "found_dm = get_parameterized_dm(*found_params)"
   ]
  },
  {
   "cell_type": "markdown",
   "id": "952842af",
   "metadata": {},
   "source": [
    "# Density Matrix Fidelity: \"Unknown\" DM vs. Reconstructed DM"
   ]
  },
  {
   "cell_type": "code",
   "execution_count": 18,
   "id": "12e35d52",
   "metadata": {},
   "outputs": [
    {
     "name": "stdout",
     "output_type": "stream",
     "text": [
      "Density matrix fidelity: 0.9999468684164227\n"
     ]
    }
   ],
   "source": [
    "dm_fidelity = lambda d1, d2 : np.trace(d1.T.conj() @ d2).real\n",
    "\n",
    "print(\"Density matrix fidelity:\", dm_fidelity(unkown_dm, found_dm))"
   ]
  },
  {
   "cell_type": "markdown",
   "id": "090377f3",
   "metadata": {},
   "source": [
    "# Plot Density Matrices"
   ]
  },
  {
   "cell_type": "code",
   "execution_count": 19,
   "id": "1cf202c6",
   "metadata": {},
   "outputs": [],
   "source": [
    "import matplotlib as mplt\n",
    "import matplotlib.pyplot as plt\n",
    "%matplotlib inline"
   ]
  },
  {
   "cell_type": "code",
   "execution_count": 20,
   "id": "44060d21",
   "metadata": {},
   "outputs": [],
   "source": [
    "def bar_plot_3d(top, title=\"\"):\n",
    "    # set up the figure and axes\n",
    "    fig = plt.figure(figsize=(8, 3))\n",
    "    ax = fig.add_subplot(121, projection='3d')\n",
    "\n",
    "    x_dim = y_dim = len(top)\n",
    "    \n",
    "    # fake data\n",
    "    _x = np.arange(x_dim)\n",
    "    _y = np.arange(y_dim)\n",
    "    _xx, _yy = np.meshgrid(_x, _y)\n",
    "    x, y = _xx.ravel(), _yy.ravel()\n",
    "\n",
    "    # top = x + y\n",
    "\n",
    "    bottom = np.zeros_like(top)\n",
    "    width = depth = 0.5\n",
    "\n",
    "    ax.bar3d(x, y, bottom.flatten(), width, depth, top.flatten(), shade=True)\n",
    "    ax.set_title(title)\n",
    "    ax.set_xticks([0, 1])\n",
    "    ax.set_yticks([0, 1])\n",
    "    ax.set_xlabel(\"row\")\n",
    "    ax.set_ylabel(\"column\")\n",
    "\n",
    "\n",
    "    plt.show()"
   ]
  },
  {
   "cell_type": "code",
   "execution_count": 21,
   "id": "072a7a5a",
   "metadata": {},
   "outputs": [
    {
     "data": {
      "image/png": "[encoded data removed]",
      "text/plain": [
       "<Figure size 800x300 with 1 Axes>"
      ]
     },
     "metadata": {},
     "output_type": "display_data"
    },
    {
     "name": "stdout",
     "output_type": "stream",
     "text": [
      "[[1.32537437 0.68928454]\n",
      " [0.68928454 1.67462563]]\n"
     ]
    }
   ],
   "source": [
    "bar_plot_3d(unkown_dm.real + 1, title=\"Unkown DM Real\")\n",
    "print(unkown_dm.real + 1)"
   ]
  },
  {
   "cell_type": "code",
   "execution_count": 22,
   "id": "5e80d6cc",
   "metadata": {},
   "outputs": [
    {
     "data": {
      "image/png": "[encoded data removed]",
      "text/plain": [
       "<Figure size 800x300 with 1 Axes>"
      ]
     },
     "metadata": {},
     "output_type": "display_data"
    },
    {
     "name": "stdout",
     "output_type": "stream",
     "text": [
      "[[1.32538593 0.68930432]\n",
      " [0.68930432 1.67461407]]\n"
     ]
    }
   ],
   "source": [
    "bar_plot_3d(found_dm.real + 1, title=\"Found DM Real\")\n",
    "print(found_dm.real + 1)"
   ]
  },
  {
   "cell_type": "code",
   "execution_count": 23,
   "id": "16966686",
   "metadata": {},
   "outputs": [
    {
     "data": {
      "image/png": "[encoded data removed]",
      "text/plain": [
       "<Figure size 800x300 with 1 Axes>"
      ]
     },
     "metadata": {},
     "output_type": "display_data"
    },
    {
     "name": "stdout",
     "output_type": "stream",
     "text": [
      "[[1.         0.64934092]\n",
      " [1.35065908 1.        ]]\n"
     ]
    }
   ],
   "source": [
    "bar_plot_3d(unkown_dm.imag + 1, title=\"Unkown DM Imaginary\")\n",
    "print(unkown_dm.imag + 1)"
   ]
  },
  {
   "cell_type": "code",
   "execution_count": 24,
   "id": "c4ccdfeb",
   "metadata": {},
   "outputs": [
    {
     "data": {
      "image/png": "[encoded data removed]",
      "text/plain": [
       "<Figure size 800x300 with 1 Axes>"
      ]
     },
     "metadata": {},
     "output_type": "display_data"
    },
    {
     "name": "stdout",
     "output_type": "stream",
     "text": [
      "[[1.        0.6493934]\n",
      " [1.3506066 1.       ]]\n"
     ]
    }
   ],
   "source": [
    "bar_plot_3d(found_dm.imag + 1, title=\"Found DM Imaginary\")\n",
    "print(found_dm.imag + 1)"
   ]
  },
  {
   "cell_type": "markdown",
   "id": "cf3b20b7",
   "metadata": {},
   "source": [
    "## Reconstruct state vector from the density matrix "
   ]
  },
  {
   "cell_type": "code",
   "execution_count": 25,
   "id": "97a90617",
   "metadata": {},
   "outputs": [],
   "source": [
    "def density_matrix_to_state_vector(rho):\n",
    "    \"\"\"Extracts a state vector from a pure-state density matrix.\"\"\"\n",
    "    # Compute eigenvalues and eigenvectors\n",
    "    eigenvalues, eigenvectors = np.linalg.eigh(rho)\n",
    "\n",
    "    # Find the eigenvector corresponding to eigenvalue ~1\n",
    "    idx = np.argmax(eigenvalues)  # The largest eigenvalue (should be ~1 for a pure state)\n",
    "    \n",
    "    # Extract the corresponding eigenvector\n",
    "    state_vector = eigenvectors[:, idx]\n",
    "\n",
    "    # Normalize the state vector\n",
    "    state_vector = state_vector / np.linalg.norm(state_vector)\n",
    "\n",
    "    return state_vector"
   ]
  },
  {
   "cell_type": "markdown",
   "id": "ff4883af",
   "metadata": {},
   "source": [
    "#### original psi"
   ]
  },
  {
   "cell_type": "code",
   "execution_count": 26,
   "id": "7e99ecce",
   "metadata": {},
   "outputs": [
    {
     "name": "stdout",
     "output_type": "stream",
     "text": [
      "original psi [[-0.44429592-0.35773664j]\n",
      " [ 0.80981552-0.13720225j]]\n",
      "prob_0 [0.32537437]\n",
      "prob_1 [0.67462563]\n"
     ]
    }
   ],
   "source": [
    "print(\"original psi\", psi)\n",
    "\n",
    "prob_0 = np.abs(psi[0])**2\n",
    "prob_1 = np.abs(psi[1])**2\n",
    "print(\"prob_0\", prob_0)\n",
    "print(\"prob_1\", prob_1)"
   ]
  },
  {
   "cell_type": "markdown",
   "id": "a8a4d8c2",
   "metadata": {},
   "source": [
    "#### original psi from density matrix, testing that it matches psi"
   ]
  },
  {
   "cell_type": "code",
   "execution_count": 27,
   "id": "d484b49e",
   "metadata": {},
   "outputs": [
    {
     "name": "stdout",
     "output_type": "stream",
     "text": [
      "original_psi_from_dm [ 0.57041596+0.j         -0.54471733+0.61474276j]\n",
      "prob_0 0.3253743683408642\n",
      "prob_1 0.6746256316591357\n"
     ]
    }
   ],
   "source": [
    "original_psi_from_dm = density_matrix_to_state_vector(unkown_dm)\n",
    "print(\"original_psi_from_dm\", original_psi_from_dm)\n",
    "\n",
    "prob_0 = np.abs(original_psi_from_dm[0])**2\n",
    "prob_1 = np.abs(original_psi_from_dm[1])**2\n",
    "print(\"prob_0\", prob_0)\n",
    "print(\"prob_1\", prob_1)"
   ]
  },
  {
   "cell_type": "markdown",
   "id": "8219d6e7",
   "metadata": {},
   "source": [
    "#### statevector from reconstructed dm"
   ]
  },
  {
   "cell_type": "code",
   "execution_count": 28,
   "id": "7b8b98a8",
   "metadata": {},
   "outputs": [
    {
     "name": "stdout",
     "output_type": "stream",
     "text": [
      "found_psi_from_dm [ 0.57040983+0.j         -0.5447464 +0.61472269j]\n",
      "prob_0 0.3253673690986673\n",
      "prob_1 0.6746326309013327\n"
     ]
    }
   ],
   "source": [
    "found_psi_from_dm = density_matrix_to_state_vector(found_dm)\n",
    "print(\"found_psi_from_dm\", found_psi_from_dm)\n",
    "prob_0 = np.abs(found_psi_from_dm[0])**2\n",
    "prob_1 = np.abs(found_psi_from_dm[1])**2\n",
    "print(\"prob_0\", prob_0)\n",
    "print(\"prob_1\", prob_1)"
   ]
  },
  {
   "cell_type": "markdown",
   "id": "f89efc72",
   "metadata": {},
   "source": [
    "### State vector fidelity"
   ]
  },
  {
   "cell_type": "code",
   "execution_count": 29,
   "id": "70d042ef",
   "metadata": {},
   "outputs": [],
   "source": [
    "def statevector_fidelity(psi, phi):\n",
    "    \"\"\"Computes the fidelity between two state vectors.\"\"\"\n",
    "    psi = np.array(psi, dtype=complex)\n",
    "    phi = np.array(phi, dtype=complex)\n",
    "    \n",
    "    # Normalize the state vectors\n",
    "    psi /= np.linalg.norm(psi)\n",
    "    phi /= np.linalg.norm(phi)\n",
    "    \n",
    "    # Compute fidelity\n",
    "    fidelity = np.abs(np.vdot(psi, phi)) ** 2\n",
    "    return fidelity\n"
   ]
  },
  {
   "cell_type": "code",
   "execution_count": 30,
   "id": "f462c33e",
   "metadata": {},
   "outputs": [
    {
     "data": {
      "text/plain": [
       "0.9999999995441948"
      ]
     },
     "execution_count": 30,
     "metadata": {},
     "output_type": "execute_result"
    }
   ],
   "source": [
    "statevector_fidelity(psi, found_psi_from_dm)"
   ]
  },
  {
   "cell_type": "markdown",
   "id": "f6097964",
   "metadata": {},
   "source": [
    "# Analytic Solution"
   ]
  },
  {
   "cell_type": "code",
   "execution_count": null,
   "id": "5b4f59d7",
   "metadata": {},
   "outputs": [
    {
     "data": {
      "text/plain": [
       "[0.32537436834086414,\n",
       " 0.6746256316591357,\n",
       " 0.18928453993727581,\n",
       " 0.8506590817954918]"
      ]
     },
     "execution_count": 31,
     "metadata": {},
     "output_type": "execute_result"
    }
   ],
   "source": [
    "probabilities"
   ]
  },
  {
   "cell_type": "code",
   "execution_count": 45,
   "id": "a3cdc8a2",
   "metadata": {},
   "outputs": [],
   "source": [
    "alpha_0 = np.sqrt(probabilities[0])\n",
    "alpha_1 = np.sqrt(probabilities[1])\n",
    "M1 = probabilities[2]\n",
    "M2 = probabilities[3]\n",
    "phi_1 = math.atan2(2*M2 - alpha_0**2 - alpha_1**2,\n",
    "                 2*M1 - alpha_0**2 - alpha_1**2)\n"
   ]
  },
  {
   "cell_type": "code",
   "execution_count": 46,
   "id": "f42beb32",
   "metadata": {},
   "outputs": [],
   "source": [
    "import cmath\n",
    "\n",
    "def rectangular_to_polar(complex_num):\n",
    "  \"\"\"Converts a complex number from rectangular form to polar form.\n",
    "\n",
    "  Args:\n",
    "    complex_num: A complex number in rectangular form (a + bi).\n",
    "\n",
    "  Returns:\n",
    "    A tuple containing the magnitude (r) and phase angle (theta) in radians.\n",
    "  \"\"\"\n",
    "  r = abs(complex_num)\n",
    "  theta = cmath.phase(complex_num)\n",
    "  return (r, theta)"
   ]
  },
  {
   "cell_type": "code",
   "execution_count": 47,
   "id": "2961ee19",
   "metadata": {},
   "outputs": [
    {
     "name": "stderr",
     "output_type": "stream",
     "text": [
      "/var/folders/x0/ws0sf7zx7v1gkqlvt7xbmlc40000gn/T/ipykernel_35548/1108080725.py:13: DeprecationWarning: Conversion of an array with ndim > 0 to a scalar is deprecated, and will error in future. Ensure you extract a single element from your array before performing this operation. (Deprecated NumPy 1.25.)\n",
      "  theta = cmath.phase(complex_num)\n"
     ]
    }
   ],
   "source": [
    "r, theta = rectangular_to_polar(psi[0])"
   ]
  },
  {
   "cell_type": "code",
   "execution_count": 48,
   "id": "a7a97d13",
   "metadata": {},
   "outputs": [
    {
     "data": {
      "text/plain": [
       "array([[ 0.57041596+3.75182770e-17j],\n",
       "       [-0.54471733+6.14742759e-01j]])"
      ]
     },
     "execution_count": 48,
     "metadata": {},
     "output_type": "execute_result"
    }
   ],
   "source": [
    "psi * np.exp(-1j * theta)"
   ]
  },
  {
   "cell_type": "code",
   "execution_count": 56,
   "id": "ea011260",
   "metadata": {},
   "outputs": [],
   "source": [
    "analytic_psi = np.array([alpha_0, alpha_1 * np.exp(1j * phi_1)]).reshape(-1, 1)\n"
   ]
  },
  {
   "cell_type": "code",
   "execution_count": 57,
   "id": "a2cc375d",
   "metadata": {},
   "outputs": [
    {
     "data": {
      "text/plain": [
       "array([[ 0.57041596+0.j        ],\n",
       "       [-0.54471733+0.61474276j]])"
      ]
     },
     "execution_count": 57,
     "metadata": {},
     "output_type": "execute_result"
    }
   ],
   "source": [
    "analytic_psi"
   ]
  },
  {
   "cell_type": "code",
   "execution_count": 58,
   "id": "b2edacdf",
   "metadata": {},
   "outputs": [
    {
     "data": {
      "text/plain": [
       "1.0"
      ]
     },
     "execution_count": 58,
     "metadata": {},
     "output_type": "execute_result"
    }
   ],
   "source": [
    "statevector_fidelity(psi, analytic_psi)"
   ]
  },
  {
   "cell_type": "code",
   "execution_count": 59,
   "id": "b7b4b36d",
   "metadata": {},
   "outputs": [
    {
     "data": {
      "text/plain": [
       "array([[-0.44429592-0.35773664j],\n",
       "       [ 0.80981552-0.13720225j]])"
      ]
     },
     "execution_count": 59,
     "metadata": {},
     "output_type": "execute_result"
    }
   ],
   "source": [
    "psi"
   ]
  },
  {
   "cell_type": "code",
   "execution_count": null,
   "id": "1ef12364",
   "metadata": {},
   "outputs": [],
   "source": []
  }
 ],
 "metadata": {
  "kernelspec": {
   "display_name": "tomography",
   "language": "python",
   "name": "python3"
  },
  "language_info": {
   "codemirror_mode": {
    "name": "ipython",
    "version": 3
   },
   "file_extension": ".py",
   "mimetype": "text/x-python",
   "name": "python",
   "nbconvert_exporter": "python",
   "pygments_lexer": "ipython3",
   "version": "3.12.7"
  }
 },
 "nbformat": 4,
 "nbformat_minor": 5
}
