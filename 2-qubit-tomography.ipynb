{
 "cells": [
  {
   "cell_type": "code",
   "execution_count": 1779,
   "id": "81fcc559",
   "metadata": {},
   "outputs": [],
   "source": [
    "import numpy as np\n",
    "from qiskit.quantum_info import random_statevector\n",
    "import math"
   ]
  },
  {
   "cell_type": "markdown",
   "id": "4c57c663",
   "metadata": {},
   "source": [
    "# 2 Qubits"
   ]
  },
  {
   "cell_type": "code",
   "execution_count": 1780,
   "id": "050fc750",
   "metadata": {},
   "outputs": [],
   "source": [
    "n_qubits = 2"
   ]
  },
  {
   "cell_type": "markdown",
   "id": "721a6d8b",
   "metadata": {},
   "source": [
    "### Generate \"unkown\" state you want to learn"
   ]
  },
  {
   "cell_type": "code",
   "execution_count": 1781,
   "id": "7f8a6c6a",
   "metadata": {},
   "outputs": [],
   "source": [
    "psi = random_statevector(2**n_qubits).data.reshape(-1, 1)\n",
    "unkown_dm = psi @ psi.conj().T"
   ]
  },
  {
   "cell_type": "markdown",
   "id": "26c0f44c",
   "metadata": {},
   "source": [
    "### Define measurement bases "
   ]
  },
  {
   "cell_type": "code",
   "execution_count": 1782,
   "id": "66f2a9ef",
   "metadata": {},
   "outputs": [],
   "source": [
    "smaller_bases = False\n",
    "smallest_bases = True\n",
    "\n",
    "if smallest_bases is True:\n",
    "    zero_zero = np.array([1, 0, 0, 0]).reshape(-1, 1)\n",
    "    zero_one = np.array([0, 1, 0, 0]).reshape(-1, 1)\n",
    "    one_zero = np.array([0, 0, 1, 0]).reshape(-1, 1)\n",
    "    one_one = np.array([0, 0, 0, 1]).reshape(-1, 1)\n",
    "\n",
    "    # phase on zero_one\n",
    "    zero_one_plus = 1/np.sqrt(2) * np.array([1, 1, 0, 0]).reshape(-1, 1)\n",
    "    zero_one_i = 1/np.sqrt(2) * np.array([1, 1j, 0, 0]).reshape(-1, 1)\n",
    "\n",
    "    # phase on one_zero\n",
    "    one_zero_plus = 1/np.sqrt(2) * np.array([1, 0, 1, 0]).reshape(-1, 1)\n",
    "    one_zero_i = 1/np.sqrt(2) * np.array([1, 0, 1j, 0]).reshape(-1, 1)\n",
    "\n",
    "    # phase on one_one\n",
    "\n",
    "    # try changing this (Bell state, hard/impossible to measure directly) \n",
    "    one_one_plus = 1/np.sqrt(2) * np.array([1, 0, 0, 1]).reshape(-1, 1)\n",
    "    one_one_i = 1/np.sqrt(2) * np.array([1, 0, 0, 1j]).reshape(-1, 1)\n",
    "\n",
    "    # to (TODO: rename)\n",
    "    one_one_plus = 1/np.sqrt(2) * np.array([0, 0, 1, 1]).reshape(-1, 1)\n",
    "    one_one_i = 1/np.sqrt(2) * np.array([0, 0, 1, 1j]).reshape(-1, 1)\n",
    "\n",
    "\n",
    "    basis_states = [zero_zero, zero_one, one_zero, one_one,\n",
    "                    zero_one_plus, zero_one_i,\n",
    "                    one_zero_plus, one_zero_i,\n",
    "                    one_one_plus, one_one_i\n",
    "                    ]\n",
    "elif smaller_bases is True:\n",
    "    zero = np.array([1, 0]).reshape(-1, 1)\n",
    "    one = np.array([0, 1]).reshape(-1, 1)\n",
    "    plus = 1/np.sqrt(2) * np.array([1, 1]).reshape(-1, 1)\n",
    "    i = 1/np.sqrt(2) * np.array([1, 1j]).reshape(-1, 1)\n",
    "    basis_states = [zero, one, plus, i]\n",
    "else:\n",
    "    zero = np.array([1, 0]).reshape(-1, 1)\n",
    "    one = np.array([0, 1]).reshape(-1, 1)\n",
    "    plus = 1/np.sqrt(2) * np.array([1, 1]).reshape(-1, 1)\n",
    "    minus = 1/np.sqrt(2) * np.array([1, -1]).reshape(-1, 1)\n",
    "    i = 1/np.sqrt(2) * np.array([1, 1j]).reshape(-1, 1)\n",
    "    minus_i = 1/np.sqrt(2) * np.array([1, -1j]).reshape(-1, 1)\n",
    "    basis_states = [zero, one, plus, minus, i, minus_i]"
   ]
  },
  {
   "cell_type": "markdown",
   "id": "1b8d32c8",
   "metadata": {},
   "source": [
    "### Create measurement projectors"
   ]
  },
  {
   "cell_type": "code",
   "execution_count": 1783,
   "id": "a06751fe",
   "metadata": {},
   "outputs": [],
   "source": [
    "# 2 qubits\n",
    "if smallest_bases is True:\n",
    "    measurement_operators = [state_vector @ state_vector.conj().T for state_vector in basis_states]\n",
    "    two_qubit_measurement_operators = measurement_operators\n",
    "else: \n",
    "    measurement_operators = [state_vector @ state_vector.conj().T for state_vector in basis_states]\n",
    "    two_qubit_measurement_operators = []\n",
    "    for qubit_1_op in measurement_operators:\n",
    "        for qubit_2_op in measurement_operators:\n",
    "            two_qubit_measurement_operators.append(np.kron(qubit_1_op, qubit_2_op))"
   ]
  },
  {
   "cell_type": "markdown",
   "id": "196c177f",
   "metadata": {},
   "source": [
    "### Compute probabilities to use as the data to fit to\n",
    "Experimentally, you would compute these from measurement counts"
   ]
  },
  {
   "cell_type": "code",
   "execution_count": 1784,
   "id": "c09814dc",
   "metadata": {},
   "outputs": [],
   "source": [
    "def get_probabilities(dm):\n",
    "    return [np.trace(dm @ measurement_op).real for measurement_op in two_qubit_measurement_operators]\n",
    "\n",
    "probabilities = get_probabilities(unkown_dm)"
   ]
  },
  {
   "cell_type": "markdown",
   "id": "b80451ce",
   "metadata": {},
   "source": [
    "### Create tunable state\n",
    "Parameterization from: https://research.physics.illinois.edu/QI/Photonics/tomography-files/tomo_chapter_2004.pdf"
   ]
  },
  {
   "cell_type": "code",
   "execution_count": 1785,
   "id": "45f6bf99",
   "metadata": {},
   "outputs": [],
   "source": [
    "def get_parameterized_dm(t):\n",
    "    \"\"\" t is a list of the tunable parameters \"\"\"\n",
    "    T = np.array([[t[0], 0, 0, 0],\n",
    "                  [t[4] + 1j*t[5], t[1], 0, 0],\n",
    "                  [t[10] + 1j*t[11], t[6] + 1j*t[7], t[2], 0],\n",
    "                  [t[14] + 1j*t[15], t[12] + 1j*t[13], t[8] + 1j*t[9], t[3]]\n",
    "                 \n",
    "                 ])\n",
    "    parameterized_rho = (T.conj().T @ T) / np.trace(T.conj().T @ T)\n",
    "    return parameterized_rho"
   ]
  },
  {
   "cell_type": "code",
   "execution_count": 1786,
   "id": "84df70d6",
   "metadata": {},
   "outputs": [],
   "source": [
    "dm_parameters = np.random.uniform(low=-1, high=1, size=16)"
   ]
  },
  {
   "cell_type": "code",
   "execution_count": 1787,
   "id": "4e923d27",
   "metadata": {},
   "outputs": [],
   "source": [
    "parameterized_dm = get_parameterized_dm(dm_parameters)"
   ]
  },
  {
   "cell_type": "markdown",
   "id": "7b44e5ba",
   "metadata": {},
   "source": [
    "### Test that DM is valid"
   ]
  },
  {
   "cell_type": "code",
   "execution_count": 1788,
   "id": "c9c3fdc7",
   "metadata": {},
   "outputs": [],
   "source": [
    "# Check that trace is close to one\n",
    "assert np.allclose(1, np.trace(parameterized_dm))\n",
    "\n",
    "# Check Hermitian\n",
    "assert np.allclose(parameterized_dm, parameterized_dm.conj().T)\n",
    "\n",
    "# Check positive-semi definite <--> eigenvalues >= 0\n",
    "assert np.all(np.linalg.eigvalsh(parameterized_dm) >= 0)"
   ]
  },
  {
   "cell_type": "markdown",
   "id": "818116a7",
   "metadata": {},
   "source": [
    "### Optimize with SciPy"
   ]
  },
  {
   "cell_type": "code",
   "execution_count": 1789,
   "id": "545a73e9",
   "metadata": {},
   "outputs": [],
   "source": [
    "def get_probabilites_from_parameters(t):\n",
    "    parameterized_dm = get_parameterized_dm(t)\n",
    "    probabilities = get_probabilities(parameterized_dm)\n",
    "    return probabilities"
   ]
  },
  {
   "cell_type": "code",
   "execution_count": 1790,
   "id": "8b432246",
   "metadata": {},
   "outputs": [],
   "source": [
    "from scipy.special import kl_div\n",
    "\n",
    "def kl_divergence(true_probs, t):\n",
    "    probs = get_probabilites_from_parameters(t)\n",
    "    return sum(kl_div(true_probs, probs))\n",
    "\n",
    "kl_divergence_from_parameters = lambda params : kl_divergence(probabilities, params)"
   ]
  },
  {
   "cell_type": "code",
   "execution_count": 1791,
   "id": "b0d269a2",
   "metadata": {},
   "outputs": [],
   "source": [
    "from scipy.optimize import minimize\n",
    "\n",
    "optimization_result = minimize(kl_divergence_from_parameters, dm_parameters, method=\"L-BFGS-B\")"
   ]
  },
  {
   "cell_type": "code",
   "execution_count": 1792,
   "id": "17ca25ca",
   "metadata": {},
   "outputs": [],
   "source": [
    "found_params = optimization_result.x\n",
    "\n",
    "found_dm = get_parameterized_dm(found_params)"
   ]
  },
  {
   "cell_type": "markdown",
   "id": "7d170537",
   "metadata": {},
   "source": [
    "# Density Matrix Fidelity: \"Unknown\" DM vs. Reconstructed DM"
   ]
  },
  {
   "cell_type": "code",
   "execution_count": 1793,
   "id": "12e35d52",
   "metadata": {},
   "outputs": [
    {
     "name": "stdout",
     "output_type": "stream",
     "text": [
      "Density matrix fidelity: 0.9995510365077165\n"
     ]
    }
   ],
   "source": [
    "dm_fidelity = lambda d1, d2 : np.trace(d1.T.conj() @ d2).real\n",
    "\n",
    "print(\"Density matrix fidelity:\", dm_fidelity(unkown_dm, found_dm))"
   ]
  },
  {
   "cell_type": "markdown",
   "id": "5f5d19d8",
   "metadata": {},
   "source": [
    "### Plot Density Matrices"
   ]
  },
  {
   "cell_type": "code",
   "execution_count": 1794,
   "id": "b6b29d8c",
   "metadata": {},
   "outputs": [],
   "source": [
    "import matplotlib as mplt\n",
    "import matplotlib.pyplot as plt\n",
    "%matplotlib inline"
   ]
  },
  {
   "cell_type": "code",
   "execution_count": 1795,
   "id": "6ae68317",
   "metadata": {},
   "outputs": [],
   "source": [
    "def bar_plot_3d(top, title=\"\"):\n",
    "    # set up the figure and axes\n",
    "    fig = plt.figure(figsize=(8, 3))\n",
    "    ax = fig.add_subplot(121, projection='3d')\n",
    "\n",
    "    x_dim = y_dim = len(top)\n",
    "    \n",
    "    # fake data\n",
    "    _x = np.arange(x_dim)\n",
    "    _y = np.arange(y_dim)\n",
    "    _xx, _yy = np.meshgrid(_x, _y)\n",
    "    x, y = _xx.ravel(), _yy.ravel()\n",
    "\n",
    "    # top = x + y\n",
    "\n",
    "    bottom = np.zeros_like(top)\n",
    "    width = depth = 0.5\n",
    "\n",
    "    ax.bar3d(x, y, bottom.flatten(), width, depth, top.flatten(), shade=True)\n",
    "    ax.set_title(title)\n",
    "    ax.set_xticks([0, 1])\n",
    "    ax.set_yticks([0, 1])\n",
    "    ax.set_xlabel(\"row\")\n",
    "    ax.set_ylabel(\"column\")\n",
    "\n",
    "\n",
    "    plt.show()"
   ]
  },
  {
   "cell_type": "code",
   "execution_count": 1796,
   "id": "444eca90",
   "metadata": {},
   "outputs": [
    {
     "data": {
      "image/png": "[encoded data removed]",
      "text/plain": [
       "<Figure size 800x300 with 1 Axes>"
      ]
     },
     "metadata": {},
     "output_type": "display_data"
    },
    {
     "name": "stdout",
     "output_type": "stream",
     "text": [
      "[[1.32972329 0.97635523 1.06682028 1.16292232]\n",
      " [0.97635523 1.0639756  1.17352119 0.99870179]\n",
      " [1.06682028 1.17352119 1.52406651 1.06275055]\n",
      " [1.16292232 0.99870179 1.06275055 1.0822346 ]]\n"
     ]
    }
   ],
   "source": [
    "bar_plot_3d(unkown_dm.real + 1, title=\"Unkown DM Real\")\n",
    "print(unkown_dm.real + 1)"
   ]
  },
  {
   "cell_type": "code",
   "execution_count": 1797,
   "id": "ef2257db",
   "metadata": {},
   "outputs": [
    {
     "data": {
      "image/png": "[encoded data removed]",
      "text/plain": [
       "<Figure size 800x300 with 1 Axes>"
      ]
     },
     "metadata": {},
     "output_type": "display_data"
    },
    {
     "name": "stdout",
     "output_type": "stream",
     "text": [
      "[[1.32978096 0.97633568 1.06679833 1.16280981]\n",
      " [0.97633568 1.06397627 1.17309925 0.99865507]\n",
      " [1.06679833 1.17309925 1.52399787 1.06270632]\n",
      " [1.16280981 0.99865507 1.06270632 1.0822449 ]]\n"
     ]
    }
   ],
   "source": [
    "bar_plot_3d(found_dm.real + 1, title=\"Found DM Real\")\n",
    "print(found_dm.real + 1)"
   ]
  },
  {
   "cell_type": "code",
   "execution_count": 1798,
   "id": "cb27056d",
   "metadata": {},
   "outputs": [
    {
     "data": {
      "image/png": "[encoded data removed]",
      "text/plain": [
       "<Figure size 800x300 with 1 Axes>"
      ]
     },
     "metadata": {},
     "output_type": "display_data"
    },
    {
     "name": "stdout",
     "output_type": "stream",
     "text": [
      "[[1.         0.85669903 0.58971719 0.97610477]\n",
      " [1.14330097 1.         1.05846251 1.07252119]\n",
      " [1.41028281 0.94153749 1.         1.19788575]\n",
      " [1.02389523 0.92747881 0.80211425 1.        ]]\n"
     ]
    }
   ],
   "source": [
    "bar_plot_3d(unkown_dm.imag + 1, title=\"Unkown DM Imaginary\")\n",
    "print(unkown_dm.imag + 1)"
   ]
  },
  {
   "cell_type": "code",
   "execution_count": 1799,
   "id": "834403ce",
   "metadata": {},
   "outputs": [
    {
     "data": {
      "image/png": "[encoded data removed]",
      "text/plain": [
       "<Figure size 800x300 with 1 Axes>"
      ]
     },
     "metadata": {},
     "output_type": "display_data"
    },
    {
     "name": "stdout",
     "output_type": "stream",
     "text": [
      "[[1.         0.85680677 0.58992365 0.97612014]\n",
      " [1.14319323 1.         1.05851498 1.0724006 ]\n",
      " [1.41007635 0.94148502 1.         1.19780998]\n",
      " [1.02387986 0.9275994  0.80219002 1.        ]]\n"
     ]
    }
   ],
   "source": [
    "bar_plot_3d(found_dm.imag + 1, title=\"Found DM Imaginary\")\n",
    "print(found_dm.imag + 1)"
   ]
  },
  {
   "cell_type": "markdown",
   "id": "b8df7156",
   "metadata": {},
   "source": [
    "## Reconstruct state vector from the density matrix "
   ]
  },
  {
   "cell_type": "code",
   "execution_count": 1800,
   "id": "c1af63e8",
   "metadata": {},
   "outputs": [],
   "source": [
    "def density_matrix_to_state_vector(rho):\n",
    "    \"\"\"Extracts a state vector from a pure-state density matrix.\"\"\"\n",
    "    # Compute eigenvalues and eigenvectors\n",
    "    eigenvalues, eigenvectors = np.linalg.eigh(rho)\n",
    "\n",
    "    # Find the eigenvector corresponding to eigenvalue ~1\n",
    "    idx = np.argmax(eigenvalues)  # The largest eigenvalue (should be ~1 for a pure state)\n",
    "    \n",
    "    # Extract the corresponding eigenvector\n",
    "    state_vector = eigenvectors[:, idx]\n",
    "\n",
    "    # Normalize the state vector\n",
    "    state_vector = state_vector / np.linalg.norm(state_vector)\n",
    "\n",
    "    return state_vector"
   ]
  },
  {
   "cell_type": "markdown",
   "id": "54646952",
   "metadata": {},
   "source": [
    "#### original psi"
   ]
  },
  {
   "cell_type": "code",
   "execution_count": 1801,
   "id": "9b6510eb",
   "metadata": {},
   "outputs": [
    {
     "name": "stdout",
     "output_type": "stream",
     "text": [
      "original psi [[ 0.54982052+0.16559191j]\n",
      " [-0.11139601+0.22708264j]\n",
      " [-0.09462587+0.71771335j]\n",
      " [ 0.25967586+0.12166779j]]\n",
      "prob_0 [0.32972329]\n",
      "prob_1 [0.0639756]\n"
     ]
    }
   ],
   "source": [
    "print(\"original psi\", psi)\n",
    "\n",
    "prob_0 = np.abs(psi[0])**2\n",
    "prob_1 = np.abs(psi[1])**2\n",
    "print(\"prob_0\", prob_0)\n",
    "print(\"prob_1\", prob_1)"
   ]
  },
  {
   "cell_type": "markdown",
   "id": "58512a9d",
   "metadata": {},
   "source": [
    "#### original psi from density matrix, testing that it matches psi"
   ]
  },
  {
   "cell_type": "code",
   "execution_count": 1802,
   "id": "ed82fc6c",
   "metadata": {},
   "outputs": [
    {
     "name": "stdout",
     "output_type": "stream",
     "text": [
      "original_psi_from_dm [ 0.57421537+0.j         -0.04117753+0.24955963j  0.11636797+0.71451033j\n",
      "  0.28373033+0.04161371j]\n",
      "prob_0 0.3297232882078949\n",
      "prob_1 0.06397559554633606\n"
     ]
    }
   ],
   "source": [
    "original_psi_from_dm = density_matrix_to_state_vector(unkown_dm)\n",
    "print(\"original_psi_from_dm\", original_psi_from_dm)\n",
    "\n",
    "prob_0 = np.abs(original_psi_from_dm[0])**2\n",
    "prob_1 = np.abs(original_psi_from_dm[1])**2\n",
    "print(\"prob_0\", prob_0)\n",
    "print(\"prob_1\", prob_1)"
   ]
  },
  {
   "cell_type": "markdown",
   "id": "c1f51989",
   "metadata": {},
   "source": [
    "#### statevector from reconstructed dm"
   ]
  },
  {
   "cell_type": "code",
   "execution_count": 1803,
   "id": "d72094f5",
   "metadata": {},
   "outputs": [
    {
     "name": "stdout",
     "output_type": "stream",
     "text": [
      "found_psi_from_dm [ 0.57429755+0.j         -0.04130273+0.24927817j  0.11641914+0.71453731j\n",
      "  0.28370846+0.0415852j ]\n",
      "prob_0 0.3298176730625588\n",
      "prob_1 0.06384552057670492\n"
     ]
    }
   ],
   "source": [
    "found_psi_from_dm = density_matrix_to_state_vector(found_dm)\n",
    "print(\"found_psi_from_dm\", found_psi_from_dm)\n",
    "prob_0 = np.abs(found_psi_from_dm[0])**2\n",
    "prob_1 = np.abs(found_psi_from_dm[1])**2\n",
    "print(\"prob_0\", prob_0)\n",
    "print(\"prob_1\", prob_1)"
   ]
  },
  {
   "cell_type": "markdown",
   "id": "6a92388c",
   "metadata": {},
   "source": [
    "### State vector fidelity"
   ]
  },
  {
   "cell_type": "code",
   "execution_count": 1804,
   "metadata": {},
   "outputs": [],
   "source": [
    "def statevector_fidelity(psi, phi):\n",
    "    \"\"\"Computes the fidelity between two state vectors.\"\"\"\n",
    "    psi = np.array(psi, dtype=complex)\n",
    "    phi = np.array(phi, dtype=complex)\n",
    "    \n",
    "    # Normalize the state vectors\n",
    "    psi /= np.linalg.norm(psi)\n",
    "    phi /= np.linalg.norm(phi)\n",
    "    \n",
    "    # Compute fidelity\n",
    "    fidelity = np.abs(np.vdot(psi, phi)) ** 2\n",
    "    return fidelity"
   ]
  },
  {
   "cell_type": "code",
   "execution_count": 1805,
   "id": "035e02af",
   "metadata": {},
   "outputs": [
    {
     "data": {
      "text/plain": [
       "0.9999998937194982"
      ]
     },
     "execution_count": 1805,
     "metadata": {},
     "output_type": "execute_result"
    }
   ],
   "source": [
    "statevector_fidelity(psi, found_psi_from_dm)"
   ]
  },
  {
   "cell_type": "markdown",
   "id": "266c6e0f",
   "metadata": {},
   "source": [
    "# Analytic Solution"
   ]
  },
  {
   "cell_type": "code",
   "execution_count": 1806,
   "id": "7a4afcff",
   "metadata": {},
   "outputs": [
    {
     "data": {
      "text/plain": [
       "[0.32972328820789476,\n",
       " 0.06397559554633607,\n",
       " 0.5240665128436193,\n",
       " 0.08223460340214997,\n",
       " 0.17320467387555158,\n",
       " 0.3401504142211595,\n",
       " 0.493715177085573,\n",
       " 0.8371777109077088,\n",
       " 0.36590110345535115,\n",
       " 0.10526480598160282]"
      ]
     },
     "execution_count": 1806,
     "metadata": {},
     "output_type": "execute_result"
    }
   ],
   "source": [
    "probabilities"
   ]
  },
  {
   "cell_type": "code",
   "execution_count": 1807,
   "id": "37c21524",
   "metadata": {},
   "outputs": [],
   "source": [
    "alpha_00 = np.sqrt(probabilities[0])\n",
    "alpha_01 = np.sqrt(probabilities[1])\n",
    "alpha_10 = np.sqrt(probabilities[2])\n",
    "alpha_11 = np.sqrt(probabilities[3])\n",
    "\n",
    "phi_01 = math.atan2(2*probabilities[5] - alpha_00**2 - alpha_01**2,\n",
    "                 2*probabilities[4] - alpha_00**2 - alpha_01**2)\n",
    "                 \n",
    "phi_10 = math.atan2(2*probabilities[7] - alpha_00**2 - alpha_10**2,\n",
    "                 2*probabilities[6] - alpha_00**2 - alpha_10**2)\n",
    "\n",
    "# phi_11 = math.atan2(2*probabilities[9] - alpha_00**2 - alpha_11**2,\n",
    "#                  2*probabilities[8] - alpha_00**2 - alpha_11**2)\n",
    "\n",
    "phi_11 = math.atan2(2*probabilities[9] - alpha_10**2 - alpha_11**2,\n",
    "                 2*probabilities[8] - alpha_10**2 - alpha_11**2) + phi_10"
   ]
  },
  {
   "cell_type": "code",
   "execution_count": 1808,
   "id": "dd2242b8",
   "metadata": {},
   "outputs": [],
   "source": [
    "analytic_psi = np.array([alpha_00,\n",
    "                         alpha_01 * np.exp(1j * phi_01),\n",
    "                         alpha_10 * np.exp(1j * phi_10),\n",
    "                         alpha_11 * np.exp(1j * phi_11)]).reshape(-1, 1)"
   ]
  },
  {
   "cell_type": "code",
   "execution_count": 1809,
   "id": "3774eaa5",
   "metadata": {},
   "outputs": [
    {
     "data": {
      "text/plain": [
       "1.0000000000000009"
      ]
     },
     "execution_count": 1809,
     "metadata": {},
     "output_type": "execute_result"
    }
   ],
   "source": [
    "statevector_fidelity(psi, analytic_psi)"
   ]
  },
  {
   "cell_type": "code",
   "execution_count": 1810,
   "id": "3e474209",
   "metadata": {},
   "outputs": [
    {
     "name": "stderr",
     "output_type": "stream",
     "text": [
      "/var/folders/x0/ws0sf7zx7v1gkqlvt7xbmlc40000gn/T/ipykernel_35565/2553347791.py:13: DeprecationWarning: Conversion of an array with ndim > 0 to a scalar is deprecated, and will error in future. Ensure you extract a single element from your array before performing this operation. (Deprecated NumPy 1.25.)\n",
      "  theta = cmath.phase(complex_num)\n"
     ]
    }
   ],
   "source": [
    "import cmath\n",
    "\n",
    "def rectangular_to_polar(complex_num):\n",
    "  \"\"\"Converts a complex number from rectangular form to polar form.\n",
    "\n",
    "  Args:\n",
    "    complex_num: A complex number in rectangular form (a + bi).\n",
    "\n",
    "  Returns:\n",
    "    A tuple containing the magnitude (r) and phase angle (theta) in radians.\n",
    "  \"\"\"\n",
    "  r = abs(complex_num)\n",
    "  theta = cmath.phase(complex_num)\n",
    "  return (r, theta)\n",
    "\n",
    "r, theta = rectangular_to_polar(psi[0])"
   ]
  },
  {
   "cell_type": "code",
   "execution_count": 1811,
   "id": "ac9637e6",
   "metadata": {},
   "outputs": [
    {
     "data": {
      "text/plain": [
       "array([[ 0.54982052+0.16559191j],\n",
       "       [-0.11139601+0.22708264j],\n",
       "       [-0.09462587+0.71771335j],\n",
       "       [ 0.25967586+0.12166779j]])"
      ]
     },
     "execution_count": 1811,
     "metadata": {},
     "output_type": "execute_result"
    }
   ],
   "source": [
    "psi"
   ]
  },
  {
   "cell_type": "code",
   "execution_count": 1812,
   "id": "15f95641",
   "metadata": {},
   "outputs": [
    {
     "data": {
      "text/plain": [
       "array([[ 0.57421537-5.70007912e-18j],\n",
       "       [-0.04117753+2.49559626e-01j],\n",
       "       [ 0.11636797+7.14510328e-01j],\n",
       "       [ 0.28373033+4.16137054e-02j]])"
      ]
     },
     "execution_count": 1812,
     "metadata": {},
     "output_type": "execute_result"
    }
   ],
   "source": [
    "psi * np.exp(-1j * theta)"
   ]
  },
  {
   "cell_type": "code",
   "execution_count": 1813,
   "id": "b2c4ea2a",
   "metadata": {},
   "outputs": [
    {
     "data": {
      "text/plain": [
       "array([[ 0.57421537+0.j        ],\n",
       "       [-0.04117753+0.24955963j],\n",
       "       [ 0.11636797+0.71451033j],\n",
       "       [ 0.28373033+0.04161371j]])"
      ]
     },
     "execution_count": 1813,
     "metadata": {},
     "output_type": "execute_result"
    }
   ],
   "source": [
    "analytic_psi"
   ]
  },
  {
   "cell_type": "code",
   "execution_count": null,
   "id": "423a166f",
   "metadata": {},
   "outputs": [],
   "source": []
  }
 ],
 "metadata": {
  "kernelspec": {
   "display_name": "tomography",
   "language": "python",
   "name": "python3"
  },
  "language_info": {
   "codemirror_mode": {
    "name": "ipython",
    "version": 3
   },
   "file_extension": ".py",
   "mimetype": "text/x-python",
   "name": "python",
   "nbconvert_exporter": "python",
   "pygments_lexer": "ipython3",
   "version": "3.12.7"
  }
 },
 "nbformat": 4,
 "nbformat_minor": 5
}
